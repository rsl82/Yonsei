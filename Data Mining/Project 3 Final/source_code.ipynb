{
 "cells": [
  {
   "cell_type": "markdown",
   "metadata": {},
   "source": [
    "# Data Loading"
   ]
  },
  {
   "cell_type": "code",
   "execution_count": 1,
   "metadata": {},
   "outputs": [],
   "source": [
    "import pandas as pd\n",
    "import matplotlib.pyplot as plt\n",
    "import seaborn as sns\n",
    "sns.set(rc={'figure.figsize':(11.7,8.27)})\n",
    "%matplotlib inline"
   ]
  },
  {
   "cell_type": "code",
   "execution_count": 2,
   "metadata": {},
   "outputs": [],
   "source": [
    "### userinformation"
   ]
  },
  {
   "cell_type": "code",
   "execution_count": 3,
   "metadata": {},
   "outputs": [
    {
     "data": {
      "text/html": [
       "<div>\n",
       "<style scoped>\n",
       "    .dataframe tbody tr th:only-of-type {\n",
       "        vertical-align: middle;\n",
       "    }\n",
       "\n",
       "    .dataframe tbody tr th {\n",
       "        vertical-align: top;\n",
       "    }\n",
       "\n",
       "    .dataframe thead th {\n",
       "        text-align: right;\n",
       "    }\n",
       "</style>\n",
       "<table border=\"1\" class=\"dataframe\">\n",
       "  <thead>\n",
       "    <tr style=\"text-align: right;\">\n",
       "      <th></th>\n",
       "      <th>user_id</th>\n",
       "      <th>birth year</th>\n",
       "      <th>age</th>\n",
       "      <th>sex</th>\n",
       "      <th>etc</th>\n",
       "      <th>depression_score</th>\n",
       "      <th>depression_class</th>\n",
       "    </tr>\n",
       "  </thead>\n",
       "  <tbody>\n",
       "    <tr>\n",
       "      <th>20</th>\n",
       "      <td>505</td>\n",
       "      <td>1946</td>\n",
       "      <td>76</td>\n",
       "      <td>F</td>\n",
       "      <td>Not applicable</td>\n",
       "      <td>0.5</td>\n",
       "      <td>Moderate</td>\n",
       "    </tr>\n",
       "  </tbody>\n",
       "</table>\n",
       "</div>"
      ],
      "text/plain": [
       "    user_id  birth year  age sex             etc  depression_score  \\\n",
       "20      505        1946   76   F  Not applicable               0.5   \n",
       "\n",
       "   depression_class  \n",
       "20         Moderate  "
      ]
     },
     "execution_count": 3,
     "metadata": {},
     "output_type": "execute_result"
    }
   ],
   "source": [
    "userinfo = pd.read_csv('user_information.csv')\n",
    "userinfo_505 = userinfo.loc[userinfo.user_id == 505,:]\n",
    "userinfo_505"
   ]
  },
  {
   "cell_type": "code",
   "execution_count": 4,
   "metadata": {},
   "outputs": [],
   "source": [
    "### annotation file"
   ]
  },
  {
   "cell_type": "code",
   "execution_count": 5,
   "metadata": {},
   "outputs": [],
   "source": [
    "data_505 = pd.read_csv('505.csv')"
   ]
  },
  {
   "cell_type": "code",
   "execution_count": 6,
   "metadata": {},
   "outputs": [],
   "source": [
    "data_505['start'] = pd.to_datetime(data_505['start'])\n",
    "data_505['end'] = pd.to_datetime(data_505['end'])"
   ]
  },
  {
   "cell_type": "code",
   "execution_count": 7,
   "metadata": {},
   "outputs": [
    {
     "data": {
      "text/plain": [
       "start        datetime64[ns]\n",
       "end          datetime64[ns]\n",
       "labelName            object\n",
       "dtype: object"
      ]
     },
     "execution_count": 7,
     "metadata": {},
     "output_type": "execute_result"
    }
   ],
   "source": [
    "data_505.dtypes"
   ]
  },
  {
   "cell_type": "code",
   "execution_count": 8,
   "metadata": {},
   "outputs": [
    {
     "data": {
      "text/html": [
       "<div>\n",
       "<style scoped>\n",
       "    .dataframe tbody tr th:only-of-type {\n",
       "        vertical-align: middle;\n",
       "    }\n",
       "\n",
       "    .dataframe tbody tr th {\n",
       "        vertical-align: top;\n",
       "    }\n",
       "\n",
       "    .dataframe thead th {\n",
       "        text-align: right;\n",
       "    }\n",
       "</style>\n",
       "<table border=\"1\" class=\"dataframe\">\n",
       "  <thead>\n",
       "    <tr style=\"text-align: right;\">\n",
       "      <th></th>\n",
       "      <th>start</th>\n",
       "      <th>end</th>\n",
       "      <th>labelName</th>\n",
       "    </tr>\n",
       "  </thead>\n",
       "  <tbody>\n",
       "    <tr>\n",
       "      <th>0</th>\n",
       "      <td>2020-08-07 18:00:00</td>\n",
       "      <td>2020-08-07 18:30:00</td>\n",
       "      <td>Go to bathroom</td>\n",
       "    </tr>\n",
       "    <tr>\n",
       "      <th>1</th>\n",
       "      <td>2020-08-07 20:00:00</td>\n",
       "      <td>2020-08-07 20:30:00</td>\n",
       "      <td>Cook</td>\n",
       "    </tr>\n",
       "    <tr>\n",
       "      <th>2</th>\n",
       "      <td>2020-08-08 10:30:00</td>\n",
       "      <td>2020-08-08 11:00:00</td>\n",
       "      <td>Go to bathroom</td>\n",
       "    </tr>\n",
       "    <tr>\n",
       "      <th>3</th>\n",
       "      <td>2020-08-08 10:30:00</td>\n",
       "      <td>2020-08-08 11:00:00</td>\n",
       "      <td>Cook</td>\n",
       "    </tr>\n",
       "    <tr>\n",
       "      <th>4</th>\n",
       "      <td>2020-08-08 12:30:00</td>\n",
       "      <td>2020-08-08 13:00:00</td>\n",
       "      <td>Cook</td>\n",
       "    </tr>\n",
       "  </tbody>\n",
       "</table>\n",
       "</div>"
      ],
      "text/plain": [
       "                start                 end       labelName\n",
       "0 2020-08-07 18:00:00 2020-08-07 18:30:00  Go to bathroom\n",
       "1 2020-08-07 20:00:00 2020-08-07 20:30:00            Cook\n",
       "2 2020-08-08 10:30:00 2020-08-08 11:00:00  Go to bathroom\n",
       "3 2020-08-08 10:30:00 2020-08-08 11:00:00            Cook\n",
       "4 2020-08-08 12:30:00 2020-08-08 13:00:00            Cook"
      ]
     },
     "execution_count": 8,
     "metadata": {},
     "output_type": "execute_result"
    }
   ],
   "source": [
    "data_505.head()"
   ]
  },
  {
   "cell_type": "code",
   "execution_count": 9,
   "metadata": {},
   "outputs": [
    {
     "data": {
      "text/plain": [
       "Go to bathroom    1516\n",
       "Cook              1243\n",
       "Wash dishes        643\n",
       "Eat                532\n",
       "Sleep              374\n",
       "Take shower        216\n",
       "Wake up            197\n",
       "Take medicine       61\n",
       "Go walk             17\n",
       "Watch TV             1\n",
       "Name: labelName, dtype: int64"
      ]
     },
     "execution_count": 9,
     "metadata": {},
     "output_type": "execute_result"
    }
   ],
   "source": [
    "data_505['labelName'].value_counts()"
   ]
  },
  {
   "cell_type": "code",
   "execution_count": 10,
   "metadata": {},
   "outputs": [],
   "source": [
    "### device uplink"
   ]
  },
  {
   "cell_type": "code",
   "execution_count": 11,
   "metadata": {},
   "outputs": [],
   "source": [
    "device = pd.read_csv('device_uplink.csv')\n",
    "device = device.drop(['Unnamed: 0'], axis=1)\n",
    "device = device.dropna()\n",
    "device = device.loc[device['client_time']>device['client_time'].min()]\n",
    "device = device.loc[device['step']>device['step'].min()]\n",
    "device = device.loc[device['owner_id']>0]\n",
    "index = device[device['tag_id']==0].index\n",
    "device.drop(index, inplace=True)\n",
    "index = device[device['tag_id']>17].index\n",
    "device.drop(index, inplace = True)"
   ]
  },
  {
   "cell_type": "code",
   "execution_count": 12,
   "metadata": {},
   "outputs": [
    {
     "data": {
      "text/html": [
       "<div>\n",
       "<style scoped>\n",
       "    .dataframe tbody tr th:only-of-type {\n",
       "        vertical-align: middle;\n",
       "    }\n",
       "\n",
       "    .dataframe tbody tr th {\n",
       "        vertical-align: top;\n",
       "    }\n",
       "\n",
       "    .dataframe thead th {\n",
       "        text-align: right;\n",
       "    }\n",
       "</style>\n",
       "<table border=\"1\" class=\"dataframe\">\n",
       "  <thead>\n",
       "    <tr style=\"text-align: right;\">\n",
       "      <th></th>\n",
       "      <th>index</th>\n",
       "      <th>uplink_id</th>\n",
       "      <th>owner_id</th>\n",
       "      <th>client_time</th>\n",
       "      <th>tag_id</th>\n",
       "      <th>step</th>\n",
       "      <th>battery_low</th>\n",
       "      <th>is_charge</th>\n",
       "      <th>tag_battery_low</th>\n",
       "    </tr>\n",
       "  </thead>\n",
       "  <tbody>\n",
       "    <tr>\n",
       "      <th>0</th>\n",
       "      <td>16439</td>\n",
       "      <td>543864</td>\n",
       "      <td>505</td>\n",
       "      <td>2020-08-07 18:06:39</td>\n",
       "      <td>2.0</td>\n",
       "      <td>10</td>\n",
       "      <td>9</td>\n",
       "      <td>0</td>\n",
       "      <td>0</td>\n",
       "    </tr>\n",
       "    <tr>\n",
       "      <th>1</th>\n",
       "      <td>16441</td>\n",
       "      <td>543882</td>\n",
       "      <td>505</td>\n",
       "      <td>2020-08-07 18:08:51</td>\n",
       "      <td>2.0</td>\n",
       "      <td>57</td>\n",
       "      <td>7</td>\n",
       "      <td>0</td>\n",
       "      <td>0</td>\n",
       "    </tr>\n",
       "    <tr>\n",
       "      <th>2</th>\n",
       "      <td>16443</td>\n",
       "      <td>543890</td>\n",
       "      <td>505</td>\n",
       "      <td>2020-08-07 18:09:42</td>\n",
       "      <td>2.0</td>\n",
       "      <td>72</td>\n",
       "      <td>5</td>\n",
       "      <td>0</td>\n",
       "      <td>0</td>\n",
       "    </tr>\n",
       "    <tr>\n",
       "      <th>3</th>\n",
       "      <td>16558</td>\n",
       "      <td>545631</td>\n",
       "      <td>505</td>\n",
       "      <td>2020-08-07 20:22:21</td>\n",
       "      <td>9.0</td>\n",
       "      <td>97</td>\n",
       "      <td>87</td>\n",
       "      <td>0</td>\n",
       "      <td>0</td>\n",
       "    </tr>\n",
       "    <tr>\n",
       "      <th>4</th>\n",
       "      <td>16925</td>\n",
       "      <td>551726</td>\n",
       "      <td>505</td>\n",
       "      <td>2020-08-08 10:38:31</td>\n",
       "      <td>10.0</td>\n",
       "      <td>62</td>\n",
       "      <td>57</td>\n",
       "      <td>0</td>\n",
       "      <td>0</td>\n",
       "    </tr>\n",
       "    <tr>\n",
       "      <th>...</th>\n",
       "      <td>...</td>\n",
       "      <td>...</td>\n",
       "      <td>...</td>\n",
       "      <td>...</td>\n",
       "      <td>...</td>\n",
       "      <td>...</td>\n",
       "      <td>...</td>\n",
       "      <td>...</td>\n",
       "      <td>...</td>\n",
       "    </tr>\n",
       "    <tr>\n",
       "      <th>10077</th>\n",
       "      <td>324798</td>\n",
       "      <td>3771783</td>\n",
       "      <td>505</td>\n",
       "      <td>2021-03-11 15:55:13</td>\n",
       "      <td>10.0</td>\n",
       "      <td>6954</td>\n",
       "      <td>36</td>\n",
       "      <td>0</td>\n",
       "      <td>0</td>\n",
       "    </tr>\n",
       "    <tr>\n",
       "      <th>10078</th>\n",
       "      <td>324799</td>\n",
       "      <td>3771784</td>\n",
       "      <td>505</td>\n",
       "      <td>2021-03-11 15:55:22</td>\n",
       "      <td>10.0</td>\n",
       "      <td>6967</td>\n",
       "      <td>35</td>\n",
       "      <td>0</td>\n",
       "      <td>0</td>\n",
       "    </tr>\n",
       "    <tr>\n",
       "      <th>10079</th>\n",
       "      <td>324801</td>\n",
       "      <td>3771787</td>\n",
       "      <td>505</td>\n",
       "      <td>2021-03-11 15:55:32</td>\n",
       "      <td>10.0</td>\n",
       "      <td>6969</td>\n",
       "      <td>35</td>\n",
       "      <td>0</td>\n",
       "      <td>0</td>\n",
       "    </tr>\n",
       "    <tr>\n",
       "      <th>10080</th>\n",
       "      <td>324811</td>\n",
       "      <td>3771847</td>\n",
       "      <td>505</td>\n",
       "      <td>2021-03-11 15:58:53</td>\n",
       "      <td>9.0</td>\n",
       "      <td>7081</td>\n",
       "      <td>35</td>\n",
       "      <td>0</td>\n",
       "      <td>0</td>\n",
       "    </tr>\n",
       "    <tr>\n",
       "      <th>10081</th>\n",
       "      <td>324822</td>\n",
       "      <td>3771903</td>\n",
       "      <td>505</td>\n",
       "      <td>2021-03-11 16:05:40</td>\n",
       "      <td>9.0</td>\n",
       "      <td>7177</td>\n",
       "      <td>35</td>\n",
       "      <td>0</td>\n",
       "      <td>0</td>\n",
       "    </tr>\n",
       "  </tbody>\n",
       "</table>\n",
       "<p>10082 rows × 9 columns</p>\n",
       "</div>"
      ],
      "text/plain": [
       "        index  uplink_id  owner_id          client_time  tag_id  step  \\\n",
       "0       16439     543864       505  2020-08-07 18:06:39     2.0    10   \n",
       "1       16441     543882       505  2020-08-07 18:08:51     2.0    57   \n",
       "2       16443     543890       505  2020-08-07 18:09:42     2.0    72   \n",
       "3       16558     545631       505  2020-08-07 20:22:21     9.0    97   \n",
       "4       16925     551726       505  2020-08-08 10:38:31    10.0    62   \n",
       "...       ...        ...       ...                  ...     ...   ...   \n",
       "10077  324798    3771783       505  2021-03-11 15:55:13    10.0  6954   \n",
       "10078  324799    3771784       505  2021-03-11 15:55:22    10.0  6967   \n",
       "10079  324801    3771787       505  2021-03-11 15:55:32    10.0  6969   \n",
       "10080  324811    3771847       505  2021-03-11 15:58:53     9.0  7081   \n",
       "10081  324822    3771903       505  2021-03-11 16:05:40     9.0  7177   \n",
       "\n",
       "       battery_low  is_charge  tag_battery_low  \n",
       "0                9          0                0  \n",
       "1                7          0                0  \n",
       "2                5          0                0  \n",
       "3               87          0                0  \n",
       "4               57          0                0  \n",
       "...            ...        ...              ...  \n",
       "10077           36          0                0  \n",
       "10078           35          0                0  \n",
       "10079           35          0                0  \n",
       "10080           35          0                0  \n",
       "10081           35          0                0  \n",
       "\n",
       "[10082 rows x 9 columns]"
      ]
     },
     "execution_count": 12,
     "metadata": {},
     "output_type": "execute_result"
    }
   ],
   "source": [
    "device_505 = device.loc[device.owner_id == 505,:].reset_index()\n",
    "device_505"
   ]
  },
  {
   "cell_type": "markdown",
   "metadata": {},
   "source": [
    "# Visualize"
   ]
  },
  {
   "cell_type": "markdown",
   "metadata": {},
   "source": [
    "# Analysis of step pattern"
   ]
  },
  {
   "cell_type": "code",
   "execution_count": 13,
   "metadata": {},
   "outputs": [],
   "source": [
    "#Annual review of STEP"
   ]
  },
  {
   "cell_type": "code",
   "execution_count": 14,
   "metadata": {},
   "outputs": [
    {
     "name": "stderr",
     "output_type": "stream",
     "text": [
      "<ipython-input-14-12d89fa67e7e>:2: SettingWithCopyWarning: \n",
      "A value is trying to be set on a copy of a slice from a DataFrame.\n",
      "Try using .loc[row_indexer,col_indexer] = value instead\n",
      "\n",
      "See the caveats in the documentation: https://pandas.pydata.org/pandas-docs/stable/user_guide/indexing.html#returning-a-view-versus-a-copy\n",
      "  device_year['client_time'] = pd.to_datetime(device_year['client_time'])\n"
     ]
    }
   ],
   "source": [
    "device_year = device_505[(device_505['client_time']>'2020-03-10')&(device_505['client_time']<'2021-03-11')]\n",
    "device_year['client_time'] = pd.to_datetime(device_year['client_time'])"
   ]
  },
  {
   "cell_type": "code",
   "execution_count": 15,
   "metadata": {},
   "outputs": [
    {
     "data": {
      "text/plain": [
       "<AxesSubplot:xlabel='client_time', ylabel='step'>"
      ]
     },
     "execution_count": 15,
     "metadata": {},
     "output_type": "execute_result"
    },
    {
     "data": {
      "image/png": "[encoded data removed]",
      "text/plain": [
       "<Figure size 432x288 with 1 Axes>"
      ]
     },
     "metadata": {
      "needs_background": "light"
     },
     "output_type": "display_data"
    }
   ],
   "source": [
    "sns.lineplot(\n",
    "    data=device_year, \n",
    "    x=\"client_time\", y=\"step\"\n",
    ")"
   ]
  },
  {
   "cell_type": "code",
   "execution_count": 16,
   "metadata": {},
   "outputs": [],
   "source": [
    "#Monthly review of STEP"
   ]
  },
  {
   "cell_type": "code",
   "execution_count": 17,
   "metadata": {},
   "outputs": [
    {
     "name": "stderr",
     "output_type": "stream",
     "text": [
      "<ipython-input-17-f931ab3bbded>:2: SettingWithCopyWarning: \n",
      "A value is trying to be set on a copy of a slice from a DataFrame.\n",
      "Try using .loc[row_indexer,col_indexer] = value instead\n",
      "\n",
      "See the caveats in the documentation: https://pandas.pydata.org/pandas-docs/stable/user_guide/indexing.html#returning-a-view-versus-a-copy\n",
      "  device_month['client_time'] = pd.to_datetime(device_month['client_time'])\n"
     ]
    }
   ],
   "source": [
    "device_month = device_505[(device_505['client_time']>'2021-02-11')&(device_505['client_time']<'2021-03-11')]\n",
    "device_month['client_time'] = pd.to_datetime(device_month['client_time'])"
   ]
  },
  {
   "cell_type": "code",
   "execution_count": 18,
   "metadata": {},
   "outputs": [
    {
     "data": {
      "text/plain": [
       "<AxesSubplot:xlabel='client_time', ylabel='step'>"
      ]
     },
     "execution_count": 18,
     "metadata": {},
     "output_type": "execute_result"
    },
    {
     "data": {
      "image/png": "[encoded data removed]",
      "text/plain": [
       "<Figure size 432x288 with 1 Axes>"
      ]
     },
     "metadata": {
      "needs_background": "light"
     },
     "output_type": "display_data"
    }
   ],
   "source": [
    "sns.lineplot(\n",
    "    data=device_month,\n",
    "    x=\"client_time\", y=\"step\"\n",
    ")"
   ]
  },
  {
   "cell_type": "code",
   "execution_count": 19,
   "metadata": {},
   "outputs": [],
   "source": [
    "#Day review of STEP"
   ]
  },
  {
   "cell_type": "code",
   "execution_count": 20,
   "metadata": {},
   "outputs": [
    {
     "name": "stderr",
     "output_type": "stream",
     "text": [
      "<ipython-input-20-90d7fb9428d7>:2: SettingWithCopyWarning: \n",
      "A value is trying to be set on a copy of a slice from a DataFrame.\n",
      "Try using .loc[row_indexer,col_indexer] = value instead\n",
      "\n",
      "See the caveats in the documentation: https://pandas.pydata.org/pandas-docs/stable/user_guide/indexing.html#returning-a-view-versus-a-copy\n",
      "  device_day['client_time'] = pd.to_datetime(device_day['client_time'])\n"
     ]
    }
   ],
   "source": [
    "device_day = device_505[(device_505['client_time']>'2021-03-10')&(device_505['client_time']<'2021-03-11')]\n",
    "device_day['client_time'] = pd.to_datetime(device_day['client_time'])"
   ]
  },
  {
   "cell_type": "code",
   "execution_count": 22,
   "metadata": {},
   "outputs": [
    {
     "data": {
      "text/plain": [
       "<seaborn.axisgrid.FacetGrid at 0x7fdbb6fb1610>"
      ]
     },
     "execution_count": 22,
     "metadata": {},
     "output_type": "execute_result"
    },
    {
     "data": {
      "image/png": "[encoded data removed]",
      "text/plain": [
       "<Figure size 360x360 with 1 Axes>"
      ]
     },
     "metadata": {
      "needs_background": "light"
     },
     "output_type": "display_data"
    }
   ],
   "source": [
    "sns.relplot(\n",
    "    data=device_day, kind=\"line\",\n",
    "    x=\"client_time\", y=\"step\")"
   ]
  },
  {
   "cell_type": "markdown",
   "metadata": {},
   "source": [
    "If the number of steps today is above the average, a message of compliment is delivered. (Example: \"You walked more than average! Great job.\")"
   ]
  },
  {
   "cell_type": "code",
   "execution_count": 23,
   "metadata": {},
   "outputs": [
    {
     "name": "stdout",
     "output_type": "stream",
     "text": [
      "You walked less than other users\n"
     ]
    }
   ],
   "source": [
    "device_day_avg = device[(device['client_time']>'2021-03-10')&(device['client_time']<'2021-03-11')]['step'].mean()\n",
    "if (device_day['step'].mean() >= device_day_avg) : \n",
    "    print(\"You walked more than other users!\")\n",
    "else :\n",
    "    print(\"You walked less than other users\")"
   ]
  },
  {
   "cell_type": "markdown",
   "metadata": {},
   "source": [
    "# Daily noticification of chores to do today"
   ]
  },
  {
   "cell_type": "code",
   "execution_count": 24,
   "metadata": {},
   "outputs": [],
   "source": [
    "# 12: sink, 16: vacuum cleaner, 17: washer\n",
    "import numpy as np\n",
    "checklist = np.full(3, False, dtype=bool)\n",
    "\n",
    "for i in range(len(device_day)):\n",
    "    if(np.any(device_day.tag_id == 12.0)):\n",
    "        checklist[0] = True;\n",
    "    elif(np.any(device_day.tag_id == 16.0)):\n",
    "        checklist[1] = True;\n",
    "    elif(np.any(device_day.tag_id == 17.0)):\n",
    "        checklist[2] = True;"
   ]
  },
  {
   "cell_type": "code",
   "execution_count": 25,
   "metadata": {},
   "outputs": [
    {
     "name": "stdout",
     "output_type": "stream",
     "text": [
      "[A list of chores to do today]\n",
      "washing dishes : \n",
      "- You need to do it.\n",
      "vacuum cleaner : \n",
      "- You did it!\n",
      "washing : \n",
      "- You did it!\n"
     ]
    }
   ],
   "source": [
    "print(\"[A list of chores to do today]\")\n",
    "    \n",
    "print(\"washing dishes : \")\n",
    "if(checklist[0] == False):\n",
    "    print(\"- You did it!\")\n",
    "else : print(\"- You need to do it.\")\n",
    "    \n",
    "print(\"vacuum cleaner : \")\n",
    "if(checklist[1] == False):\n",
    "    print(\"- You did it!\")\n",
    "else : print(\"- You need to do it.\")\n",
    "    \n",
    "print(\"washing : \")\n",
    "if(checklist[2] == False):\n",
    "    print(\"- You did it!\")\n",
    "else : print(\"- You need to do it.\")"
   ]
  },
  {
   "cell_type": "markdown",
   "metadata": {},
   "source": [
    "# Montly review of your lifestyle "
   ]
  },
  {
   "cell_type": "code",
   "execution_count": 26,
   "metadata": {},
   "outputs": [],
   "source": [
    "ts = pd.Timestamp\n",
    "data_sample = pd.DataFrame(index=range(0,len(data_505)), columns = {'hour', 'day', 'month', 'year', 'labelName'})\n",
    "for i in range(len(data_sample)):\n",
    "    data_sample['hour'][i] = ts(data_505['start'][i]).hour\n",
    "    data_sample['day'][i] = ts(data_505['start'][i]).day\n",
    "    data_sample['month'][i] = ts(data_505['start'][i]).month\n",
    "    data_sample['year'][i] = ts(data_505['start'][i]).year\n",
    "    data_sample['labelName'][i] = data_505['labelName'][i]"
   ]
  },
  {
   "cell_type": "code",
   "execution_count": 27,
   "metadata": {},
   "outputs": [
    {
     "data": {
      "image/png": "[encoded data removed]",
      "text/plain": [
       "<Figure size 288x288 with 1 Axes>"
      ]
     },
     "metadata": {
      "needs_background": "light"
     },
     "output_type": "display_data"
    }
   ],
   "source": [
    "# What kind of activities did you do the most during the month?\n",
    "sns.catplot(x=\"labelName\",\n",
    "                data=data_sample.loc[data_sample.month==3,:], kind=\"count\",\n",
    "                height=4, palette=\"husl\");"
   ]
  },
  {
   "cell_type": "markdown",
   "metadata": {},
   "source": [
    "# Anlysis of your cooking pattern"
   ]
  },
  {
   "cell_type": "code",
   "execution_count": 28,
   "metadata": {},
   "outputs": [
    {
     "data": {
      "image/png": "[encoded data removed]",
      "text/plain": [
       "<Figure size 1152x576 with 8 Axes>"
      ]
     },
     "metadata": {
      "needs_background": "light"
     },
     "output_type": "display_data"
    }
   ],
   "source": [
    "#How many times did you cook last month? \n",
    "sns.catplot(x=\"day\", col=\"month\", col_wrap=4, \n",
    "                data=data_sample.loc[data_sample.labelName=='Cook',:], kind=\"count\",\n",
    "                height=4);"
   ]
  },
  {
   "cell_type": "code",
   "execution_count": 29,
   "metadata": {},
   "outputs": [
    {
     "name": "stdout",
     "output_type": "stream",
     "text": [
      "You cooked less than last month\n"
     ]
    }
   ],
   "source": [
    "#Compare the number of times you cooked this month \n",
    "#and the number of times you cooked last month\n",
    "\n",
    "cook_thismonth = len(data_sample.loc[(data_sample.labelName=='Cook') & (data_sample.year==2021) & (data_sample.month==3),:])\n",
    "cook_lastmonth = len(data_sample.loc[(data_sample.labelName=='Cook') & (data_sample.year==2021) & (data_sample.month==2),:])\n",
    "\n",
    "if(cook_thismonth > cook_lastmonth) :\n",
    "    print(\"You cooked more than last month\")\n",
    "else :\n",
    "    print(\"You cooked less than last month\")"
   ]
  },
  {
   "cell_type": "markdown",
   "metadata": {},
   "source": [
    "# Analysis of Time to Taking medicine"
   ]
  },
  {
   "cell_type": "code",
   "execution_count": 50,
   "metadata": {
    "scrolled": true
   },
   "outputs": [
    {
     "data": {
      "image/png": "[encoded data removed]",
      "text/plain": [
       "<Figure size 339.85x288 with 1 Axes>"
      ]
     },
     "metadata": {
      "needs_background": "light"
     },
     "output_type": "display_data"
    }
   ],
   "source": [
    "# Time to take medicine (1 year)\n",
    "sns.catplot(x=\"labelName\", hue=\"hour\",\n",
    "                data=data_sample.loc[data_sample.labelName=='Take medicine',:], kind=\"count\",\n",
    "                height=4);"
   ]
  },
  {
   "cell_type": "markdown",
   "metadata": {},
   "source": [
    "# Daily noticification of taking medicine"
   ]
  },
  {
   "cell_type": "markdown",
   "metadata": {},
   "source": [
    "In the case of a user suffering from a disease, an alarm is provided after checking whether the user is taking medicine."
   ]
  },
  {
   "cell_type": "code",
   "execution_count": 30,
   "metadata": {},
   "outputs": [
    {
     "name": "stdout",
     "output_type": "stream",
     "text": [
      "[Taking Medicine]\n",
      "- You already took it!\n"
     ]
    }
   ],
   "source": [
    "# 6:Medicine\n",
    "# If the monthly data shows that the user took the medicine, \n",
    "# we suppose the user takes the medicine.\n",
    "medicine_checklist = np.full(1, False, dtype=bool)\n",
    "if(any(device_month.tag_id == 6)):\n",
    "    if(any(device_day.tag_id == 6)):\n",
    "        medicine_checklist[0] = True;\n",
    "        \n",
    "print(\"[Taking Medicine]\")\n",
    "if(medicine_checklist[0] == False):\n",
    "    print(\"- You need to take medicine\")\n",
    "else :\n",
    "    print(\"- You already took it!\")"
   ]
  },
  {
   "cell_type": "markdown",
   "metadata": {},
   "source": [
    "# Analysis of Time to Eat food"
   ]
  },
  {
   "cell_type": "code",
   "execution_count": 31,
   "metadata": {},
   "outputs": [
    {
     "data": {
      "image/png": "[encoded data removed]",
      "text/plain": [
       "<Figure size 1152x576 with 6 Axes>"
      ]
     },
     "metadata": {
      "needs_background": "light"
     },
     "output_type": "display_data"
    }
   ],
   "source": [
    "#Past data of the time when you eat food most often\n",
    "sns.catplot(x=\"hour\", col=\"month\", col_wrap=4, \n",
    "                data=data_sample.loc[data_sample.labelName=='Eat',:], kind=\"count\",\n",
    "                height=4);"
   ]
  },
  {
   "cell_type": "code",
   "execution_count": 32,
   "metadata": {},
   "outputs": [
    {
     "data": {
      "image/png": "[encoded data removed]",
      "text/plain": [
       "<Figure size 339.85x288 with 1 Axes>"
      ]
     },
     "metadata": {
      "needs_background": "light"
     },
     "output_type": "display_data"
    }
   ],
   "source": [
    "#You can check the time when you eat food most often and when you don't.\n",
    "sns.catplot(x=\"labelName\", hue=\"hour\",\n",
    "                data=data_sample.loc[data_sample.labelName=='Eat',:], kind=\"count\",\n",
    "                height=4);"
   ]
  },
  {
   "cell_type": "markdown",
   "metadata": {},
   "source": [
    "# Analysis of sleep pattern"
   ]
  },
  {
   "cell_type": "code",
   "execution_count": 33,
   "metadata": {},
   "outputs": [
    {
     "data": {
      "image/png": "[encoded data removed]",
      "text/plain": [
       "<Figure size 1203.85x576 with 5 Axes>"
      ]
     },
     "metadata": {
      "needs_background": "light"
     },
     "output_type": "display_data"
    }
   ],
   "source": [
    "sns.catplot(x=\"labelName\", col=\"month\", col_wrap=4, hue=\"hour\",\n",
    "                data=data_sample.loc[data_sample.labelName=='Sleep',:], kind=\"count\",\n",
    "                height=4);"
   ]
  },
  {
   "cell_type": "code",
   "execution_count": 34,
   "metadata": {},
   "outputs": [
    {
     "data": {
      "image/png": "[encoded data removed]",
      "text/plain": [
       "<Figure size 339.85x288 with 1 Axes>"
      ]
     },
     "metadata": {
      "needs_background": "light"
     },
     "output_type": "display_data"
    }
   ],
   "source": [
    "#total\n",
    "sns.catplot(x=\"labelName\", hue=\"hour\",\n",
    "                data=data_sample.loc[data_sample.labelName=='Sleep',:], kind=\"count\",\n",
    "                height=4);"
   ]
  },
  {
   "cell_type": "code",
   "execution_count": 35,
   "metadata": {},
   "outputs": [],
   "source": [
    "#만약 최신의 sleep 데이터가 평균 sleep 보다 많이 늦다면(최빈값), 경고 알람 "
   ]
  },
  {
   "cell_type": "code",
   "execution_count": 38,
   "metadata": {},
   "outputs": [
    {
     "name": "stdout",
     "output_type": "stream",
     "text": [
      "You slept early\n"
     ]
    }
   ],
   "source": [
    "sleep_mode = data_sample.loc[data_sample.labelName=='Sleep',:]['hour'].mode()[0] \n",
    "sleep_today = data_sample.loc[data_sample.labelName=='Sleep',:].iloc[-1,:]['hour']  \n",
    "\n",
    "if(20 < sleep_today < sleep_mode+24):\n",
    "    print(\"You slept early\")\n",
    "elif(sleep_mode < sleep_today < 6):\n",
    "    print(\"You slept late\")"
   ]
  },
  {
   "cell_type": "markdown",
   "metadata": {},
   "source": [
    "# Analysis of bathroom pattern"
   ]
  },
  {
   "cell_type": "code",
   "execution_count": 293,
   "metadata": {},
   "outputs": [
    {
     "data": {
      "image/png": "[encoded data removed]",
      "text/plain": [
       "<Figure size 1152x576 with 8 Axes>"
      ]
     },
     "metadata": {
      "needs_background": "light"
     },
     "output_type": "display_data"
    }
   ],
   "source": [
    "sns.catplot(x=\"hour\", col=\"month\", col_wrap=4, \n",
    "                data=data_sample.loc[data_sample.labelName=='Go to Bathroom',:], kind=\"count\",\n",
    "                height=4);"
   ]
  },
  {
   "cell_type": "markdown",
   "metadata": {},
   "source": [
    "After calculating the average number of toilet visits by the user, an alarm message is provided if the number of toilet visits today is less than the average. "
   ]
  },
  {
   "cell_type": "code",
   "execution_count": 39,
   "metadata": {},
   "outputs": [
    {
     "name": "stdout",
     "output_type": "stream",
     "text": [
      "You need to go to bathroom more often.\n"
     ]
    }
   ],
   "source": [
    "bathroom_lastmonth = len(data_sample.loc[(data_sample.labelName=='Go to Bathroom') & (data_sample.year==2021) & (data_sample.month==2),:]) / 30\n",
    "bathroom_today = len(data_sample.loc[(data_sample.labelName=='Go to Bathroom') & (data_sample.year==2021) & (data_sample.month==3) & (data_sample.day==20),:])\n",
    "\n",
    "if(bathroom_today > bathroom_lastmonth) :\n",
    "    print(\"You're going to the bathroom well!\")\n",
    "else :\n",
    "    print(\"You need to go to bathroom more often.\")"
   ]
  },
  {
   "cell_type": "markdown",
   "metadata": {},
   "source": [
    "# Analysis of Exercise pattern"
   ]
  },
  {
   "cell_type": "code",
   "execution_count": 81,
   "metadata": {},
   "outputs": [
    {
     "data": {
      "image/png": "[encoded data removed]",
      "text/plain": [
       "<Figure size 1203.85x288 with 3 Axes>"
      ]
     },
     "metadata": {
      "needs_background": "light"
     },
     "output_type": "display_data"
    }
   ],
   "source": [
    "sns.catplot(x=\"labelName\", col=\"month\", col_wrap=4, hue=\"hour\",\n",
    "                data=data_sample.loc[(data_sample.labelName=='Go walk'),:], kind=\"count\",\n",
    "                height=4);"
   ]
  },
  {
   "cell_type": "markdown",
   "metadata": {},
   "source": [
    "Provide advisory messages of exercise based on whether the user has worked out or not."
   ]
  },
  {
   "cell_type": "code",
   "execution_count": 83,
   "metadata": {},
   "outputs": [
    {
     "name": "stdout",
     "output_type": "stream",
     "text": [
      "You need to go out and exercise!\n"
     ]
    }
   ],
   "source": [
    "workout_lastmonth = len(data_sample.loc[(data_sample.labelName=='Go walk') & (data_sample.year==2021) & (data_sample.month==2),:]) / 30\n",
    "workout_today = len(data_sample.loc[(data_sample.labelName=='Go walk') & (data_sample.year==2021) & (data_sample.month==3) & (data_sample.day==20),:])\n",
    "\n",
    "if(workout_today > workout_lastmonth) :\n",
    "    print(\"You did a good job!\")\n",
    "else :\n",
    "    print(\"You need to go out and exercise more!\")"
   ]
  },
  {
   "cell_type": "markdown",
   "metadata": {},
   "source": [
    "# Analysis of Mental health"
   ]
  },
  {
   "cell_type": "code",
   "execution_count": 84,
   "metadata": {},
   "outputs": [
    {
     "data": {
      "text/html": [
       "<div>\n",
       "<style scoped>\n",
       "    .dataframe tbody tr th:only-of-type {\n",
       "        vertical-align: middle;\n",
       "    }\n",
       "\n",
       "    .dataframe tbody tr th {\n",
       "        vertical-align: top;\n",
       "    }\n",
       "\n",
       "    .dataframe thead th {\n",
       "        text-align: right;\n",
       "    }\n",
       "</style>\n",
       "<table border=\"1\" class=\"dataframe\">\n",
       "  <thead>\n",
       "    <tr style=\"text-align: right;\">\n",
       "      <th></th>\n",
       "      <th>user_id</th>\n",
       "      <th>birth year</th>\n",
       "      <th>age</th>\n",
       "      <th>sex</th>\n",
       "      <th>etc</th>\n",
       "      <th>depression_score</th>\n",
       "      <th>depression_class</th>\n",
       "    </tr>\n",
       "  </thead>\n",
       "  <tbody>\n",
       "    <tr>\n",
       "      <th>20</th>\n",
       "      <td>505</td>\n",
       "      <td>1946</td>\n",
       "      <td>76</td>\n",
       "      <td>F</td>\n",
       "      <td>Not applicable</td>\n",
       "      <td>0.5</td>\n",
       "      <td>Moderate</td>\n",
       "    </tr>\n",
       "  </tbody>\n",
       "</table>\n",
       "</div>"
      ],
      "text/plain": [
       "    user_id  birth year  age sex             etc  depression_score  \\\n",
       "20      505        1946   76   F  Not applicable               0.5   \n",
       "\n",
       "   depression_class  \n",
       "20         Moderate  "
      ]
     },
     "execution_count": 84,
     "metadata": {},
     "output_type": "execute_result"
    }
   ],
   "source": [
    "userinfo_505"
   ]
  },
  {
   "cell_type": "code",
   "execution_count": 85,
   "metadata": {},
   "outputs": [
    {
     "data": {
      "image/png": "[encoded data removed]",
      "text/plain": [
       "<Figure size 432x288 with 1 Axes>"
      ]
     },
     "metadata": {
      "needs_background": "light"
     },
     "output_type": "display_data"
    }
   ],
   "source": [
    "sns.histplot(x=\"depression_score\",\n",
    "                data=userinfo.loc[:,['depression_score']], kde=True)\n",
    "# The user's depression level is red line\n",
    "plt.hist(userinfo_505.iloc[0].depression_score, bins=50, alpha=0.5, color='red')\n",
    "plt.show()"
   ]
  },
  {
   "cell_type": "code",
   "execution_count": 41,
   "metadata": {},
   "outputs": [
    {
     "data": {
      "text/plain": [
       "0.33962264150943394"
      ]
     },
     "execution_count": 41,
     "metadata": {},
     "output_type": "execute_result"
    }
   ],
   "source": [
    "depression_avg"
   ]
  },
  {
   "cell_type": "code",
   "execution_count": 42,
   "metadata": {},
   "outputs": [
    {
     "name": "stdout",
     "output_type": "stream",
     "text": [
      "Don't be depressed. You're doing great job!\n"
     ]
    }
   ],
   "source": [
    "# 사용자 전체 평균\n",
    "depression_avg = userinfo.loc[:,['depression_score']].mean()[0]\n",
    "if( userinfo_505.iloc[0].depression_score > depression_avg):\n",
    "    print(\"Don't be depressed. You're doing great job!\")\n",
    "else:\n",
    "    print(\"You have a healthier mind than other users.\")"
   ]
  },
  {
   "cell_type": "markdown",
   "metadata": {
    "id": "5Y0E8tNFW3mK"
   },
   "source": [
    "데이터 불러오기"
   ]
  },
  {
   "cell_type": "code",
   "execution_count": null,
   "metadata": {
    "colab": {
     "base_uri": "https://localhost:8080/"
    },
    "id": "6Y4Br7zOW3mL",
    "outputId": "b5c0cb93-55b8-4f7e-b82a-02c2c96e29ea"
   },
   "outputs": [
    {
     "name": "stderr",
     "output_type": "stream",
     "text": [
      "/usr/local/lib/python3.7/dist-packages/pandas/core/indexing.py:1732: SettingWithCopyWarning: \n",
      "A value is trying to be set on a copy of a slice from a DataFrame\n",
      "\n",
      "See the caveats in the documentation: https://pandas.pydata.org/pandas-docs/stable/user_guide/indexing.html#returning-a-view-versus-a-copy\n",
      "  self._setitem_single_block(indexer, value, name)\n"
     ]
    },
    {
     "name": "stdout",
     "output_type": "stream",
     "text": [
      "         start       end       labelName\n",
      "0     18:00:00  18:30:00  Go to bathroom\n",
      "1     20:00:00  20:30:00            Cook\n",
      "2     10:30:00  11:00:00  Go to bathroom\n",
      "3     10:30:00  11:00:00            Cook\n",
      "4     12:30:00  13:00:00            Cook\n",
      "...        ...       ...             ...\n",
      "4795  14:30:00  15:00:00  Go to bathroom\n",
      "4796  15:00:00  15:30:00            Cook\n",
      "4797  15:30:00  16:00:00  Go to bathroom\n",
      "4798  16:00:00  16:30:00            Cook\n",
      "4799  16:00:00  16:30:00            Cook\n",
      "\n",
      "[4800 rows x 3 columns]\n"
     ]
    }
   ],
   "source": [
    "import numpy as np\n",
    "import pandas as pd\n",
    "\n",
    "#데이터 불러오기\n",
    "\n",
    "\n",
    "user1= pd.read_csv ('505b.csv')\n",
    "user1 ['start'] = pd.to_datetime (user1 ['start'])\n",
    "user1 ['end'] = pd.to_datetime (user1 ['end'])\n",
    "import  datetime as  d\n",
    "for  g in  range (len (user1 )):\n",
    "    time = d.datetime.time (user1 ['start'].iloc [g ])\n",
    "    user1 ['start'].iloc [g ] = time\n",
    "    time = d.datetime.time (user1 ['end'].iloc [g ])\n",
    "    user1 ['end'].iloc [g ] = time\n",
    "\n",
    "print(user1)"
   ]
  },
  {
   "cell_type": "markdown",
   "metadata": {
    "id": "JXA0O1LnW3mL"
   },
   "source": [
    "LinearRegression"
   ]
  },
  {
   "cell_type": "code",
   "execution_count": null,
   "metadata": {},
   "outputs": [],
   "source": [
    "from numpy.ma.core import argmin\n",
    "from  sklearn.model_selection import  train_test_split\n",
    "from  sklearn.linear_model import  LinearRegression\n",
    "\n",
    "lr = LinearRegression ()\n",
    "train_target = user1 ['labelName'].astype ('category')\n",
    "train_input = user1 ['start'].astype ('category')\n",
    "train_input = pd.get_dummies (train_input )\n",
    "train_target = pd.get_dummies (train_target )\n",
    "\n",
    "train_scaled ,val_scaled ,train_target ,val_target = train_test_split (train_input , train_target ,test_size=0.2 , random_state=0)\n",
    "lr.fit (train_scaled ,train_target )\n",
    "pred=lr.predict (train_scaled )\n",
    "pred_val = lr.predict(val_scaled)\n",
    "\n",
    "#검증\n",
    "print(lr.score(val_scaled,val_target))\n",
    "print(pred_val[0])"
   ]
  },
  {
   "cell_type": "markdown",
   "metadata": {
    "id": "1rE2UPjvW3mM"
   },
   "source": [
    "Neural Net"
   ]
  },
  {
   "cell_type": "code",
   "execution_count": null,
   "metadata": {
    "colab": {
     "base_uri": "https://localhost:8080/"
    },
    "id": "Ageue1U5W3mM",
    "outputId": "fe5046c4-792e-4552-8939-10d700e06293"
   },
   "outputs": [
    {
     "name": "stdout",
     "output_type": "stream",
     "text": [
      "0.48333333333333334\n"
     ]
    }
   ],
   "source": [
    "#Neural Net\n",
    "#데이터 불러오기\n",
    "import  matplotlib.pyplot as  plt\n",
    "#라이브러리 임포트\n",
    "from  tensorflow import  keras\n",
    "#테스트세트와 검증세트 나누기\n",
    "from  sklearn.model_selection import  train_test_split\n",
    "from  sklearn.neural_network import  MLPClassifier\n",
    "train_target = user1 ['labelName'].astype ('category')\n",
    "train_input = user1 [['start','end']].astype ('category')\n",
    "train_input = pd.get_dummies (train_input )\n",
    "#train_target = pd.get_dummies (train_target )\n",
    "train_scaled ,val_scaled ,train_target ,val_target = train_test_split (train_input , train_target ,test_size=0.2 , random_state=1 )\n",
    "\n",
    "model = MLPClassifier (hidden_layer_sizes=(3),activation='logistic',solver='lbfgs',random_state=1 ,max_iter= 10000)\n",
    "model.fit (train_scaled ,train_target)\n",
    "#검증\n",
    "pred_val = model.predict(val_scaled)\n",
    "from sklearn.metrics import accuracy_score,classification_report\n",
    "\n",
    "print(accuracy_score(val_target,pred_val))"
   ]
  },
  {
   "cell_type": "markdown",
   "metadata": {
    "id": "ghVixcQhW3mN"
   },
   "source": [
    "Random Forest"
   ]
  },
  {
   "cell_type": "code",
   "execution_count": null,
   "metadata": {
    "colab": {
     "base_uri": "https://localhost:8080/"
    },
    "id": "xmOgPTHkW3mN",
    "outputId": "dc2d561f-0b36-4f3b-b022-c69e0d2e3592"
   },
   "outputs": [
    {
     "name": "stderr",
     "output_type": "stream",
     "text": [
      "/usr/local/lib/python3.7/dist-packages/sklearn/model_selection/_split.py:680: UserWarning: The least populated class in y has only 1 members, which is less than n_splits=5.\n",
      "  UserWarning,\n"
     ]
    },
    {
     "name": "stdout",
     "output_type": "stream",
     "text": [
      "0.49166666666666664\n",
      "                precision    recall  f1-score   support\n",
      "\n",
      "          Cook       0.69      0.39      0.50       260\n",
      "           Eat       0.00      0.00      0.00        98\n",
      "Go to bathroom       0.40      0.87      0.55       298\n",
      "       Go walk       0.00      0.00      0.00         1\n",
      "         Sleep       0.99      1.00      0.99        81\n",
      " Take medicine       0.00      0.00      0.00        13\n",
      "   Take shower       0.00      0.00      0.00        47\n",
      "       Wake up       0.37      0.50      0.43        46\n",
      "   Wash dishes       0.58      0.06      0.11       116\n",
      "\n",
      "      accuracy                           0.49       960\n",
      "     macro avg       0.34      0.31      0.29       960\n",
      "  weighted avg       0.48      0.49      0.42       960\n",
      "\n"
     ]
    },
    {
     "name": "stderr",
     "output_type": "stream",
     "text": [
      "/usr/local/lib/python3.7/dist-packages/sklearn/metrics/_classification.py:1318: UndefinedMetricWarning: Precision and F-score are ill-defined and being set to 0.0 in labels with no predicted samples. Use `zero_division` parameter to control this behavior.\n",
      "  _warn_prf(average, modifier, msg_start, len(result))\n",
      "/usr/local/lib/python3.7/dist-packages/sklearn/metrics/_classification.py:1318: UndefinedMetricWarning: Precision and F-score are ill-defined and being set to 0.0 in labels with no predicted samples. Use `zero_division` parameter to control this behavior.\n",
      "  _warn_prf(average, modifier, msg_start, len(result))\n",
      "/usr/local/lib/python3.7/dist-packages/sklearn/metrics/_classification.py:1318: UndefinedMetricWarning: Precision and F-score are ill-defined and being set to 0.0 in labels with no predicted samples. Use `zero_division` parameter to control this behavior.\n",
      "  _warn_prf(average, modifier, msg_start, len(result))\n"
     ]
    }
   ],
   "source": [
    "#Random Forest\n",
    "import  numpy as  np\n",
    "import  pandas as  pd\n",
    "from  sklearn.model_selection import  train_test_split\n",
    "train_target = user1 ['labelName'].astype ('category')\n",
    "train_input = user1 [['start','end']].astype ('category')\n",
    "train_input = pd.get_dummies (train_input )\n",
    "#train_target = pd.get_dummies (train_target )\n",
    "train_scaled ,val_scaled ,train_target ,val_target = train_test_split (train_input , train_target ,test_size=0.2 , random_state=1 )\n",
    "#랜덤포레스트사용하기\n",
    "from  sklearn.model_selection import  cross_validate\n",
    "from  sklearn.ensemble import  RandomForestClassifier\n",
    "rf = RandomForestClassifier (n_jobs = -1 , random_state=42)#모든코어사용\n",
    "#검증세트점수와 훈련세트점수반환\n",
    "scores = cross_validate (rf ,train_scaled ,train_target ,return_train_score=True ,n_jobs=-1 ) #교차검증사용\n",
    "#print (np.mean (scores ['train_score']),np.mean (scores ['test_score']))\n",
    "#랜덤포레스트모델 훈련\n",
    "rf.fit (train_scaled ,train_target)\n",
    "\n",
    "#검증\n",
    "pred_v = rf.predict(val_scaled)\n",
    "print(accuracy_score(val_target,pred_v))\n",
    "print(classification_report(val_target,pred_v))"
   ]
  }
 ],
 "metadata": {
  "kernelspec": {
   "display_name": "Python 3",
   "language": "python",
   "name": "python3"
  },
  "language_info": {
   "codemirror_mode": {
    "name": "ipython",
    "version": 3
   },
   "file_extension": ".py",
   "mimetype": "text/x-python",
   "name": "python",
   "nbconvert_exporter": "python",
   "pygments_lexer": "ipython3",
   "version": "3.8.5"
  }
 },
 "nbformat": 4,
 "nbformat_minor": 4
}
